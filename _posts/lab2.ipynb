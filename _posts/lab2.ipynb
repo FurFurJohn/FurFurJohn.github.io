{
 "cells": [
  {
   "cell_type": "markdown",
   "metadata": {
    "Collapsed": "false",
    "toc-hr-collapsed": false
   },
   "source": [
    "# DSCI 542 Lab 2"
   ]
  },
  {
   "cell_type": "markdown",
   "metadata": {
    "Collapsed": "false"
   },
   "source": [
    "## Introduction\n",
    "\n",
    "### Lab 2 Learning Outcomes\n",
    "\n",
    "By the end of this lab, you will be able to:\n",
    "\n",
    "- Consider the audience in choosing the tone, topic, and content of a blog post about a technical data science concept\n",
    "- Apply reasoning skills in structuring and formulating logical arguments to communicate technical concepts effectively\n",
    "- Use appropriate and relevant examples to communicate technical concepts \n",
    "- Write a blog post to explain a technical data science concept"
   ]
  },
  {
   "cell_type": "markdown",
   "metadata": {
    "Collapsed": "false"
   },
   "source": [
    "### Submission instructions\n",
    "rubric={mechanics:1}\n",
    "\n",
    "- To submit this assignment, submit this jupyter notebook with your answers inserted into the cells below OR submit a separate jupyter notebook with your blog post.\n",
    "- Update your README file with answers to questions and links to your submission.\n",
    "- Follow the general [lab instructions](https://ubc-mds.github.io/resources_pages/general_lab_instructions/)."
   ]
  },
  {
   "cell_type": "markdown",
   "metadata": {
    "Collapsed": "false"
   },
   "source": [
    "### Pre-lab\n",
    "\n",
    "Before the lab, you should complete the following tasks:\n",
    "\n",
    "- Brainstorm three technical data science concepts that you might be interested in knowing more about, or explaining in your blog post. Briefly note the topics in point form below:\n",
    "\n",
    "    1. Ordinary Least Squares\n",
    "    2. \n",
    "    3. \n",
    "\n",
    "Note: We will be doing some activities in the lab session that will rely on you having already thought about potential topics before the lab starts. **It is really important that you come to the lab prepared with at least three potential topics.** You are still welcome to change topics, but by the end of the lab session we hope that everyone will have your topic confirmed."
   ]
  },
  {
   "cell_type": "markdown",
   "metadata": {
    "Collapsed": "false",
    "toc-hr-collapsed": false
   },
   "source": [
    "## Exercise 1 - Write your blog ( /29)\n",
    "rubric={reasoning:20,writing:9}\n",
    "\n",
    "**Write a blog post that explains a technical data science concept. Feel free to use code, images, animations, or videos as part of your explanation but it is important that this be your work (or appropriately cited if it's from elsewhere)!**"
   ]
  },
  {
   "cell_type": "markdown",
   "metadata": {
    "Collapsed": "false",
    "toc-hr-collapsed": false
   },
   "source": [
    "### Guidelines\n",
    "\n",
    "#### Length\n",
    "\n",
    "**Aim for 500-800 words. Minimum is 400; maximum is 1000.**\n",
    "\n",
    "If you anticipate needing less than 400 words for a thorough explanation, choose a harder concept. If you anticipate needing more than 1000 words, choose a simpler one.\n",
    "\n",
    "#### Audience\n",
    "\n",
    "**Write this blog post for your fellow classmates, instructors and TAs.**\n",
    "\n",
    "Keep in mind that your peers are smart friends of yours who are new to data science but who have a professional or academic reason to understand the concept you've chosen. Make sure you say what that reason is, because your readers might not know."
   ]
  },
  {
   "cell_type": "markdown",
   "metadata": {
    "Collapsed": "false",
    "toc-hr-collapsed": false
   },
   "source": [
    "#### Choosing a concept\n",
    "\n",
    "You can explain pretty much any data science concept you want, including ones you've already seen, or will soon see, in MDS. In short, it's up to you!\n",
    "\n",
    "Before you leave Lab 2, a TA should approve your topic.\n",
    "\n",
    "Here are a few concepts from block 1 and beyond you can use for inspiration:\n",
    "\n",
    "1. DSCI 511:\n",
    "\n",
    "- Data types in Python or R\n",
    "- Loops or conditionals in Python or R\n",
    "- Functions in Python or R\n",
    "- Docstrings\n",
    "- Use of Python and R in data science\n",
    "\n",
    "2. DSCI 521:\n",
    "\n",
    "- The Unix shell\n",
    "- Version control with GitHub\n",
    "- SSH (Secure SHell authentication)\n",
    "- Version control\n",
    "\n",
    "3. DSCI 551:\n",
    "\n",
    "- Properties of statistical distributions (mean, variance, median, mode)\n",
    "- The Binomial distribution\n",
    "- Random variables\n",
    "\n",
    "If you want to look ahead to concepts that will be covered in later MDS courses, feel free. Just make sure to choose something that your classmates will be able to understand *today.- (There are many such concepts in later courses, since not everything is cumulative.) Probably the most important thing is to write about something that excites you.\n",
    "\n",
    "Feel free to check with the instructor or one of the TAs if you want some advice on choosing a concept. And if you want more help brainstorming, I've listed a bunch of ideas below. (Note – if 99% of these are brand new to you, that's totally okay!! It's probably best to choose something that you yourself already understand, so feel free to just pick something from one of the lectures you've already attended.)\n",
    "\n",
    "1. Statistics & machine learning\n",
    "\n",
    "    - What is the difference between prediction and inference?\n",
    "    - What is a p-value?\n",
    "    - What is a confidence interval?\n",
    "    - What is maximum likelihood estimation?\n",
    "    - In statistics, what is a model?\n",
    "    - What is linear regression?\n",
    "    - Classical hypothesis testing\n",
    "    - Interpretations of probability: classical frequentist vs. Bayesian.\n",
    "    - Bayes' Theorem\n",
    "    - In Bayesian inference, what is the role of a prior?\n",
    "    - The role of measurement in modelling: how do our assumptions affect our interpretations and uncertainty?\n",
    "    - What is overfitting? Why should we care about it?\n",
    "    - What is regularization? What is it used for?\n",
    "    - Multiple comparisons: when are they a problem and how should we deal with them?\n",
    "    - What is the difference between a false positive and a false negative? Why should we care?\n",
    "    - Why should we care if we have missing data?\n",
    "    - What is the difference between training error and generalization error?\n",
    "    - What is optimization bias?\n",
    "    - What is the bias-variance tradeoff?\n",
    "    - What is cross-validation?\n",
    "\n",
    "\n",
    "2. Computer Science\n",
    "\n",
    "    - What is a bit?\n",
    "    - What is entropy? (in information theory)\n",
    "    - What is big-O notation?\n",
    "    - What are time complexity and space complexity?\n",
    "    - Explain how a particular algorithm works.\n",
    "    - What is object-oriented programming?\n",
    "    - What is functional programming?\n",
    "    - What is a relational database?\n",
    "    - What is SQL?\n",
    "    - What is a hash function?\n",
    "    - What is floating point representation?\n",
    "\n",
    "\n",
    "3. Data Visualization\n",
    "\n",
    "    - Usability testing\n",
    "    - What is a grammar of graphics?\n",
    "    - What are the benefits and costs of using an interactive visualization over a static one?\n",
    "    - Good rules of thumb for visualization\n",
    "    - How to make a specific type of visualization\n",
    "\n",
    "4. Data science tools & workflows\n",
    "\n",
    "    - How to use a particular function and/or package\n",
    "    - What is tidy data?\n",
    "    - Environment management\n",
    "    - Package managers\n",
    "    - Data cleaning/wrangling\n",
    "    - Importance of reproducibility\n",
    "\n",
    "**Lastly here are some guidelines for what *NOT* to do:**\n",
    "\n",
    "- Write about a concept that would never conceivably come up in MDS.\n",
    "- Write your opinion about a concept as if your audience already understands the concept inside out.\n",
    "- Fail to give **examples**!\n",
    "\n",
    "### Academic integrity\n",
    "\n",
    "Write your blog post in your own words, and give credit where credit is due.\n",
    "\n",
    "#### Plagiarism\n",
    "\n",
    "(Copied from the [program policies and regulations](https://ubc-mds.github.io/policies/))\n",
    "\n",
    "Plagiarism, which is intellectual theft, occurs where an individual submits or presents the oral or written work of another person as his or her own and can include:\n",
    "\n",
    "- multiple students submitting the same response\n",
    "- copying from sources without citing them\n",
    "- copying verbatim (word-for-word) from source and citing, but failing to make it explicit that this is a quotation (quotations should be used only rarely, if at all)\n",
    "\n",
    "Plagiarism will not be tolerated in the MDS program and may result in a zero grade in the assignment or quiz where plagiarism is observed. Students are responsible for ensuring that any work submitted does not constitute plagiarism. Students who are in any doubt as to what constitutes plagiarism should consult their Instructor or Teaching Fellow before handing in any assignments.\n",
    "\n",
    "For more information see the [UBC Academic Misconduct policies](http://www.calendar.ubc.ca/vancouver/index.cfm?tree=3,54,111,959)."
   ]
  },
  {
   "cell_type": "markdown",
   "metadata": {
    "Collapsed": "false"
   },
   "source": [
    "## Your blog post\n",
    "\n",
    "#### (See guidelines above)"
   ]
  },
  {
   "cell_type": "code",
   "execution_count": 1,
   "metadata": {
    "Collapsed": "false"
   },
   "outputs": [],
   "source": [
    "# Your answer here\n",
    "\n",
    "#(Feel free to add more cells as you need them)"
   ]
  },
  {
   "cell_type": "markdown",
   "metadata": {},
   "source": [
    "# Ordinary Least Squares"
   ]
  },
  {
   "cell_type": "markdown",
   "metadata": {},
   "source": [
    "Today, in this blog post, I will talk about a very useful regression method: Ordinary Least Squares. It is frequently used in economics, statistics, and data science. It is simple to use, but it is also the foundation of some of the more advanced regression methods. So you may ask: what is ordinary least squares? What is a regression? And why am I learning this? What am I gonna use it for? Just bear with me, and I will provide examples of why regressions are very useful in today’s world. And keep in mind, because this blog is just an elementary introduction for ordinary least squares, so I will not dive into the difficult math equations to prove its assumptions and merits. Nor will I go over specific codes to calculate it. It is beyond the scope of this blog. "
   ]
  },
  {
   "cell_type": "markdown",
   "metadata": {},
   "source": [
    "## What is regression analysis?"
   ]
  },
  {
   "cell_type": "markdown",
   "metadata": {},
   "source": [
    "OK. First, what is regression analysis? What is it for?      \n",
    "\n",
    "Wikipedia gives a very technical definition:      \n",
    "\n",
    "\"*regression analysis is a set of statistical processes for estimating the relationships among variables. It includes many techniques for modeling and analyzing several variables, when the focus is on the relationship between a dependent variable and one or more independent variables (or 'predictors')*\"$^1$.\n"
   ]
  },
  {
   "cell_type": "markdown",
   "metadata": {},
   "source": [
    "It is very hard to understand, isn’t? Let’s see an example. We often see in crime/detective movies, when the detectives see the footprints of a suspect, they can instantly tell roughly how tall the suspect is. How did they do that? Is that some kind of magic? Of course not! They know that because there is a relationship between a person’s height and foot size. According to a study by the University of Rhode Island Department of Electrical, Computer and Biomedical Engineering, the normal height-to-foot ratio is about 6.6:1$^2$. "
   ]
  },
  {
   "cell_type": "markdown",
   "metadata": {},
   "source": [
    "In layman's terms, regression analysis is a method to study the relationship between variables. It can be the relationship between a person’s height and foot size (like the example above), or the relationship between the amount of sun light and corn production, or the relationship between the amount of cheese your mom put in your mac & cheese and how delicious it is. Just like people are connected with different relationships, variables can also be connected with certain relationships. Regression analysis helps us discover these relationships. It identifies one variable as a dependent variable, and other one or more variables as independent variables. Then it studies how the change of independent variables will affect the dependent variable. The relationships between dependent variables and independent variables help us better understand the world. Ordinary least squares (or OLS in short) is a way to discover this kind of relationship."
   ]
  },
  {
   "cell_type": "markdown",
   "metadata": {},
   "source": [
    "## What is OLS?"
   ]
  },
  {
   "cell_type": "markdown",
   "metadata": {},
   "source": [
    "Let’s go back to Wikipedia, and find the technical definition:  \n",
    "\n",
    "“*In statistics, ordinary least squares (OLS) is a type of linear least squares method for estimating the unknown parameters in a linear regression model. OLS chooses the parameters of a linear function of a set of explanatory variables by the principle of least squares: minimizing the sum of the squares of the differences between the observed dependent variable (values of the variable being predicted) in the given dataset and those predicted by the linear function*”$^3$.\n"
   ]
  },
  {
   "cell_type": "markdown",
   "metadata": {},
   "source": [
    "Again, very hard to understand! But there are a few key words of OLS we should notice.     \n",
    "\n",
    "### 1. Linear\n",
    "\n",
    "For OLS to work properly, the relationship between a dependent variable and independent variables must be linear. Below is an example of a linear relationship$^4$."
   ]
  },
  {
   "cell_type": "markdown",
   "metadata": {},
   "source": [
    "![title](img/linear.jpg)"
   ]
  },
  {
   "cell_type": "markdown",
   "metadata": {},
   "source": [
    "[Source](http://www.360doc.com/content/18/0706/10/15930282_768242401.shtml)"
   ]
  },
  {
   "cell_type": "markdown",
   "metadata": {},
   "source": [
    "If the relationship is quadratic or in other forms, then we cannot use OLS. It would do a bad job estimating the relationship. Below is an example of a quadratic relationship$^5$."
   ]
  },
  {
   "cell_type": "markdown",
   "metadata": {},
   "source": [
    "![title](img/quadratics.gif)"
   ]
  },
  {
   "cell_type": "markdown",
   "metadata": {},
   "source": [
    "[Source](http://mathcentral.uregina.ca/QQ/database/QQ.09.06/mike1.html)"
   ]
  },
  {
   "cell_type": "markdown",
   "metadata": {},
   "source": [
    "Let's see an example of an OLS function: \n",
    "$$y=\\beta_0+\\beta_1x$$"
   ]
  },
  {
   "cell_type": "markdown",
   "metadata": {},
   "source": [
    "Does that look familiar? I think most of you have encountered such a function during high school. I guess back then, you did a lot of calculations to figure out the slopes and the intercepts of this kind of functions.  And this is what we are doing now! OLS is just a more complicated way to figure out the slopes and the intercepts. Behind this equation, mathematicians did a lot of hard work to figure out how OLS works to calculate $\\beta_0$ and $\\beta_1$, and they also proved that why OLS does a very good job estimating $\\beta_0$ and $\\beta_1$."
   ]
  },
  {
   "cell_type": "markdown",
   "metadata": {},
   "source": [
    "### 2. Minimizing the sum of the squares of the differences."
   ]
  },
  {
   "cell_type": "markdown",
   "metadata": {},
   "source": [
    "Now is the hard part.     \n",
    "\n",
    "First, the differences. What differences?     \n",
    "\n",
    "Let’s go back to the linear graph again$^4$. We can see in the graph that there is a line $f(x_i)$ almost simulates the pattern of $y_1, y_2, …, y_5$, but each $y_i$ is not on the line. Here, the $\\{y_i\\}$ represents the true values, values that you get from a dataset. And the line $f(x_i)$ is the predicted value of $\\{y_i\\}$. It is a line you draw that you think it represents the relationship between $x_i$ and $y_i$. But how do we know this line is good? What does this line have to do with OLS?   \n"
   ]
  },
  {
   "cell_type": "markdown",
   "metadata": {},
   "source": [
    "![title](img/difference.jpg)"
   ]
  },
  {
   "cell_type": "markdown",
   "metadata": {},
   "source": [
    "[Source](http://www.360doc.com/content/18/0706/10/15930282_768242401.shtml)"
   ]
  },
  {
   "cell_type": "markdown",
   "metadata": {},
   "source": [
    "Here, the differences are the differences between each $y_i$ and each $f(x_i)$, namely, the differences between each true value and each predicted value. To check how accurately each $f(x_i)$ predicts each $y_i$, we need to sum up all the differences. But some of the $y_i$ is larger than $f(x_i)$, some smaller. The positive and negative differences may cancel each other out. What shall we do now? To solve this problem, OLS first squares the differences, and then sums up the squared differences together. In this way, there are no negative differences to affect our analysis. "
   ]
  },
  {
   "cell_type": "markdown",
   "metadata": {},
   "source": [
    "This sum of differences can be expressed as:\n",
    "$$\\sum (\\beta_0+\\beta_1x_i-y_i)^2$$"
   ]
  },
  {
   "cell_type": "markdown",
   "metadata": {},
   "source": [
    "Then what does OLS do? OLS finds the $\\beta_0$ and $\\beta_1$ that minimize this function."
   ]
  },
  {
   "cell_type": "markdown",
   "metadata": {},
   "source": [
    "Sounds simple, right? But the math calculations behind it are not simple at all. It is very difficult for people to calculate the answers by hand. Fortunately, now we have a lot of computer software programs to do the math for us, such as Stata, Matlab, Python, and R. The calculations are beyond the scope of this introductory blog post and anyone interested can search for answers themselves."
   ]
  },
  {
   "cell_type": "markdown",
   "metadata": {},
   "source": [
    "## Final Words"
   ]
  },
  {
   "cell_type": "markdown",
   "metadata": {},
   "source": [
    "Today we introduced a regression method called ordinary least squares. It finds the $\\beta_0$ and $\\beta_1$ that can minimize the function:   \n",
    "\n",
    "$$\\sum (\\beta_0+\\beta_1x_i-y_i)^2$$\n",
    "\n",
    "It looks easy, right? So does it really do a good job estimating the relationship between $x_i$ and $y_i$? \n",
    "\n",
    "Yes, of course!    \n",
    "1. The estimator $\\beta_0$ and $\\beta_1$ are unbiased.\n",
    "2. $\\beta_0$ and $\\beta_1$ are consistent.\n",
    "3. $\\beta_0$ and $\\beta_1$ are asymptotically normal.    \n",
    "\n",
    "Now you may wonder what unbiased, consistent, and asymptotically normal mean. I will definitely explain those in my next blog post. In short, the above means that $\\beta_0$ and $\\beta_1$ calculated by OLS are almost “equal” to the true value.\n"
   ]
  },
  {
   "cell_type": "markdown",
   "metadata": {},
   "source": [
    "Then you may ask: if OLS is so powerful, can I use it under any condition? \n",
    "\n",
    "NO!    \n",
    "\n",
    "Even though OLS is powerful, it also has its limitations. We will discuss these more in the next blog post as well.  \n"
   ]
  },
  {
   "cell_type": "markdown",
   "metadata": {},
   "source": [
    "Now that you learned what regression analysis is, go and try it for yourself and see what questions or problems you have, and we can discuss those next time. Or you can just go and tell your friend, you know how tall he or she is, by simply measuring his or her foot size! "
   ]
  },
  {
   "cell_type": "markdown",
   "metadata": {},
   "source": [
    "#### Sources:"
   ]
  },
  {
   "cell_type": "markdown",
   "metadata": {},
   "source": [
    "1. Regression analysis. Wikipedia. (n.d.). Retrieved from https://en.wikipedia.org/wiki/Regression_analysis  \n",
    "2. Tremblay, S. Height-to-Foot-Size Ratio. (n.d.). Retrived from https://www.livestrong.com/article/491821-height-to-foot-size-ratio/\n",
    "3. Ordinary least squares. Wikipedia. (n.d.). Retrieved from https://en.wikipedia.org/wiki/Ordinary_least_squares\n",
    "4. Fengjiutian88. How to understand OLS? (2018). Retrieved from http://www.360doc.com/content/18/0706/10/15930282_768242401.shtml \n",
    "5. Penny. Graphing quadratic equations. (n.d.). Retrieved from http://mathcentral.uregina.ca/QQ/database/QQ.09.06/mike1.html"
   ]
  }
 ],
 "metadata": {
  "kernelspec": {
   "display_name": "Python 3",
   "language": "python",
   "name": "python3"
  },
  "language_info": {
   "codemirror_mode": {
    "name": "ipython",
    "version": 3
   },
   "file_extension": ".py",
   "mimetype": "text/x-python",
   "name": "python",
   "nbconvert_exporter": "python",
   "pygments_lexer": "ipython3",
   "version": "3.7.3"
  }
 },
 "nbformat": 4,
 "nbformat_minor": 4
}
